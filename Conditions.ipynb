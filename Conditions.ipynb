{
 "cells": [
  {
   "cell_type": "code",
   "execution_count": 1,
   "id": "312da8de",
   "metadata": {},
   "outputs": [
    {
     "name": "stdout",
     "output_type": "stream",
     "text": [
      "True\n",
      "False\n",
      "True\n"
     ]
    }
   ],
   "source": [
    "x=2 #assigment perator\n",
    "print(x==2)  #double equals operator\n",
    "print(x==3)\n",
    "print(x!=6) #not equals to\n"
   ]
  },
  {
   "cell_type": "code",
   "execution_count": 17,
   "id": "97a24f0e",
   "metadata": {},
   "outputs": [
    {
     "name": "stdout",
     "output_type": "stream",
     "text": [
      "Your name is Hassan raza\n",
      "your age is 7\n"
     ]
    }
   ],
   "source": [
    "name='Hassan'\n",
    "age= 11\n",
    "if name == 'Hassan' and age==11:\n",
    "    print(\"Your name is Hassan raza\")\n",
    "    \n",
    "if name=='Mehak' and age== 20:\n",
    "    print(\"Your age is 20\")\n",
    "    \n",
    "if name=='Mehak' or age== 11:\n",
    "    print(\"your age is 7\")\n",
    "    \n",
    "if name=='Mehak' or age== 20:\n",
    "    print(\"Your name is Mehak\")\n",
    "    "
   ]
  },
  {
   "cell_type": "code",
   "execution_count": 19,
   "id": "b1b6b988",
   "metadata": {},
   "outputs": [
    {
     "name": "stdout",
     "output_type": "stream",
     "text": [
      "Your name is in the list\n"
     ]
    }
   ],
   "source": [
    "name =\"Mehak\"\n",
    "if name in ['Mehak','Ali']:\n",
    "    print('Your name is in the list')\n"
   ]
  },
  {
   "cell_type": "markdown",
   "id": "419d972e",
   "metadata": {},
   "source": [
    "# if elif else"
   ]
  },
  {
   "cell_type": "code",
   "execution_count": null,
   "id": "f3286e9c",
   "metadata": {},
   "outputs": [],
   "source": [
    "x = 35\n",
    "if x == 35:\n",
    "    print(\"your age is 35\")\n",
    "else:\n",
    "    print(\"Your age is not 35\")"
   ]
  },
  {
   "cell_type": "code",
   "execution_count": 21,
   "id": "25832676",
   "metadata": {},
   "outputs": [
    {
     "name": "stdout",
     "output_type": "stream",
     "text": [
      "Enter your age: yay\n"
     ]
    },
    {
     "ename": "ValueError",
     "evalue": "invalid literal for int() with base 10: 'yay'",
     "output_type": "error",
     "traceback": [
      "\u001b[1;31m---------------------------------------------------------------------------\u001b[0m",
      "\u001b[1;31mValueError\u001b[0m                                Traceback (most recent call last)",
      "Input \u001b[1;32mIn [21]\u001b[0m, in \u001b[0;36m<cell line: 1>\u001b[1;34m()\u001b[0m\n\u001b[1;32m----> 1\u001b[0m age\u001b[38;5;241m=\u001b[39m \u001b[38;5;28;43mint\u001b[39;49m\u001b[43m(\u001b[49m\u001b[38;5;28;43minput\u001b[39;49m\u001b[43m(\u001b[49m\u001b[38;5;124;43m'\u001b[39;49m\u001b[38;5;124;43mEnter your age: \u001b[39;49m\u001b[38;5;124;43m'\u001b[39;49m\u001b[43m)\u001b[49m\u001b[43m)\u001b[49m\n\u001b[0;32m      2\u001b[0m \u001b[38;5;28;01mif\u001b[39;00m age \u001b[38;5;241m<\u001b[39m \u001b[38;5;241m18\u001b[39m:\n\u001b[0;32m      3\u001b[0m     \u001b[38;5;28mprint\u001b[39m(\u001b[38;5;124m\"\u001b[39m\u001b[38;5;124myou can\u001b[39m\u001b[38;5;124m'\u001b[39m\u001b[38;5;124mt ride\u001b[39m\u001b[38;5;124m\"\u001b[39m)\n",
      "\u001b[1;31mValueError\u001b[0m: invalid literal for int() with base 10: 'yay'"
     ]
    }
   ],
   "source": [
    "age= int(input('Enter your age: '))\n",
    "if age < 18:\n",
    "    print(\"you can't ride\")\n",
    "elif (age>= 18) and (age < 50):\n",
    "    print(\"you can ride\")\n",
    "else:\n",
    "    print(\"you are 50+, you cannot ride\")"
   ]
  },
  {
   "cell_type": "code",
   "execution_count": null,
   "id": "39ebeded",
   "metadata": {},
   "outputs": [],
   "source": []
  }
 ],
 "metadata": {
  "kernelspec": {
   "display_name": "Python 3 (ipykernel)",
   "language": "python",
   "name": "python3"
  },
  "language_info": {
   "codemirror_mode": {
    "name": "ipython",
    "version": 3
   },
   "file_extension": ".py",
   "mimetype": "text/x-python",
   "name": "python",
   "nbconvert_exporter": "python",
   "pygments_lexer": "ipython3",
   "version": "3.8.9"
  }
 },
 "nbformat": 4,
 "nbformat_minor": 5
}
